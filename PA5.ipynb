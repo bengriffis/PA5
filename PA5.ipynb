{
 "cells": [
  {
   "cell_type": "code",
   "execution_count": 19,
   "id": "6b10cb11",
   "metadata": {},
   "outputs": [
    {
     "name": "stdout",
     "output_type": "stream",
     "text": [
      "Enter the length of the base: 10\n",
      "Enter the length of the height: 5\n",
      "Enter the length of the third side: 3\n",
      "The area of the triangle is approximately  25.0 square units\n",
      "The perimeter of the trinagle is  18 linear units\n"
     ]
    }
   ],
   "source": [
    "def area_triangle(b,h,a):\n",
    "    return (b*h)/2\n",
    "\n",
    "def perimeter_triangle(b,h,a):\n",
    "    return (b+h+a)\n",
    "\n",
    "b=int(input(\"Enter the length of the base: \"))\n",
    "h=int(input(\"Enter the length of the height: \"))\n",
    "a=int(input(\"Enter the length of the third side: \"))\n",
    "print(\"The area of the triangle is approximately \", area_triangle(b,h,a), \"square units\")\n",
    "print(\"The perimeter of the trinagle is \", perimeter_triangle(b,h,a), \"linear units\")"
   ]
  },
  {
   "cell_type": "code",
   "execution_count": 9,
   "id": "c40ecd69",
   "metadata": {},
   "outputs": [
    {
     "name": "stdout",
     "output_type": "stream",
     "text": [
      "Guess a number: 100\n",
      "Too Low! Guess again\n",
      "Guess a number: 500\n",
      "Too Low! Guess again\n",
      "Guess a number: 1000\n",
      "Too high! Guess again\n",
      "Guess a number: 900\n",
      "Too high! Guess again\n",
      "Guess a number: 800\n",
      "Too high! Guess again\n",
      "Guess a number: 700\n",
      "Too high! Guess again\n",
      "Guess a number: 600\n",
      "Too high! Guess again\n",
      "Guess a number: 300\n",
      "Too Low! Guess again\n",
      "Guess a number: 400\n",
      "Too Low! Guess again\n",
      "Guess a number: 450\n",
      "Too Low! Guess again\n",
      "Guess a number: 500\n",
      "Too Low! Guess again\n",
      "Guess a number: 550\n",
      "Too Low! Guess again\n",
      "Guess a number: 590\n",
      "Too high! Guess again\n",
      "Guess a number: 580\n",
      "Too Low! Guess again\n",
      "Guess a number: 581\n",
      "Too Low! Guess again\n",
      "Guess a number: 582\n",
      "Too Low! Guess again\n",
      "Guess a number: 583\n",
      "Correct!\n"
     ]
    }
   ],
   "source": [
    "def evaluateGuess():\n",
    "    import random\n",
    "    number=random.randint(1,1000)\n",
    "    active=True\n",
    "    while active:\n",
    "        entered_number=int(input(\"Guess a number: \"))\n",
    "        if entered_number>number:\n",
    "            print(\"Too high! Guess again\")\n",
    "        elif entered_number< number:\n",
    "            print(\"Too Low! Guess again\")\n",
    "        else:\n",
    "            print(\"Correct!\")\n",
    "            active=False\n",
    "evaluateGuess()"
   ]
  },
  {
   "cell_type": "code",
   "execution_count": 16,
   "id": "d7b86d32",
   "metadata": {},
   "outputs": [
    {
     "name": "stdout",
     "output_type": "stream",
     "text": [
      "The mean temperature for the past  6 days is  30.833333333333332 degrees F.\n"
     ]
    }
   ],
   "source": [
    "def meanTemp(temps):\n",
    "    return sum(temps)/len(temps)\n",
    "temps=[30,32,12,45,32,34]\n",
    "print(\"The mean temperature for the past \", len(temps), \"days is \", meanTemp(temps), \"degrees F.\")"
   ]
  },
  {
   "cell_type": "markdown",
   "id": "2eed765c",
   "metadata": {},
   "source": [
    "# PA5"
   ]
  },
  {
   "cell_type": "markdown",
   "id": "93d682f5",
   "metadata": {},
   "source": [
    "## Ben Griffis"
   ]
  },
  {
   "cell_type": "markdown",
   "id": "50ca5ebf",
   "metadata": {},
   "source": [
    "## Version 1"
   ]
  },
  {
   "cell_type": "markdown",
   "id": "c1b6b388",
   "metadata": {},
   "source": [
    "## CS-150"
   ]
  }
 ],
 "metadata": {
  "kernelspec": {
   "display_name": "Python 3 (ipykernel)",
   "language": "python",
   "name": "python3"
  },
  "language_info": {
   "codemirror_mode": {
    "name": "ipython",
    "version": 3
   },
   "file_extension": ".py",
   "mimetype": "text/x-python",
   "name": "python",
   "nbconvert_exporter": "python",
   "pygments_lexer": "ipython3",
   "version": "3.9.12"
  }
 },
 "nbformat": 4,
 "nbformat_minor": 5
}
